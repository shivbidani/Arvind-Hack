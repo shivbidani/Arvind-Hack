{
 "cells": [
  {
   "cell_type": "code",
   "execution_count": 34,
   "metadata": {
    "collapsed": true
   },
   "outputs": [],
   "source": [
    "import numpy as np\n",
    "import pandas as pd\n",
    "from sklearn.svm import SVR\n",
    "from sklearn import tree\n",
    "from sklearn.model_selection import train_test_split\n",
    "from sklearn.metrics import accuracy_score"
   ]
  },
  {
   "cell_type": "code",
   "execution_count": 35,
   "metadata": {
    "scrolled": true
   },
   "outputs": [
    {
     "data": {
      "text/html": [
       "<div>\n",
       "<style>\n",
       "    .dataframe thead tr:only-child th {\n",
       "        text-align: right;\n",
       "    }\n",
       "\n",
       "    .dataframe thead th {\n",
       "        text-align: left;\n",
       "    }\n",
       "\n",
       "    .dataframe tbody tr th {\n",
       "        vertical-align: top;\n",
       "    }\n",
       "</style>\n",
       "<table border=\"1\" class=\"dataframe\">\n",
       "  <thead>\n",
       "    <tr style=\"text-align: right;\">\n",
       "      <th></th>\n",
       "      <th>fwlfh</th>\n",
       "      <th>cjwr</th>\n",
       "      <th>par</th>\n",
       "      <th>es</th>\n",
       "      <th>meh</th>\n",
       "      <th>Name</th>\n",
       "      <th>whr</th>\n",
       "      <th>lffh</th>\n",
       "      <th>Weight</th>\n",
       "      <th>path</th>\n",
       "      <th>Height</th>\n",
       "      <th>col</th>\n",
       "      <th>bmi</th>\n",
       "    </tr>\n",
       "  </thead>\n",
       "  <tbody>\n",
       "    <tr>\n",
       "      <th>0</th>\n",
       "      <td>1.284765</td>\n",
       "      <td>1.075423</td>\n",
       "      <td>0.018512</td>\n",
       "      <td>55.610102</td>\n",
       "      <td>41.746230</td>\n",
       "      <td>1</td>\n",
       "      <td>2.047511</td>\n",
       "      <td>0.725495</td>\n",
       "      <td>54.4311</td>\n",
       "      <td>1.jpg</td>\n",
       "      <td>1.6002</td>\n",
       "      <td>173</td>\n",
       "      <td>21.256834</td>\n",
       "    </tr>\n",
       "    <tr>\n",
       "      <th>1</th>\n",
       "      <td>1.671641</td>\n",
       "      <td>1.052806</td>\n",
       "      <td>0.014974</td>\n",
       "      <td>70.176238</td>\n",
       "      <td>62.239506</td>\n",
       "      <td>2</td>\n",
       "      <td>2.455961</td>\n",
       "      <td>0.491537</td>\n",
       "      <td>74.8427</td>\n",
       "      <td>2.jpg</td>\n",
       "      <td>1.7018</td>\n",
       "      <td>214</td>\n",
       "      <td>25.842374</td>\n",
       "    </tr>\n",
       "    <tr>\n",
       "      <th>2</th>\n",
       "      <td>1.585730</td>\n",
       "      <td>1.077681</td>\n",
       "      <td>0.026840</td>\n",
       "      <td>40.011765</td>\n",
       "      <td>28.570747</td>\n",
       "      <td>3</td>\n",
       "      <td>2.445054</td>\n",
       "      <td>0.608696</td>\n",
       "      <td>92.9864</td>\n",
       "      <td>3.jpg</td>\n",
       "      <td>1.9304</td>\n",
       "      <td>190</td>\n",
       "      <td>24.953118</td>\n",
       "    </tr>\n",
       "    <tr>\n",
       "      <th>3</th>\n",
       "      <td>1.337689</td>\n",
       "      <td>1.072982</td>\n",
       "      <td>0.014118</td>\n",
       "      <td>66.567134</td>\n",
       "      <td>54.986445</td>\n",
       "      <td>4</td>\n",
       "      <td>2.116847</td>\n",
       "      <td>0.628097</td>\n",
       "      <td>68.0389</td>\n",
       "      <td>4.jpg</td>\n",
       "      <td>1.7272</td>\n",
       "      <td>184</td>\n",
       "      <td>22.807203</td>\n",
       "    </tr>\n",
       "    <tr>\n",
       "      <th>4</th>\n",
       "      <td>1.568283</td>\n",
       "      <td>1.097768</td>\n",
       "      <td>0.019558</td>\n",
       "      <td>51.197262</td>\n",
       "      <td>50.040106</td>\n",
       "      <td>5</td>\n",
       "      <td>2.608294</td>\n",
       "      <td>0.600757</td>\n",
       "      <td>99.7903</td>\n",
       "      <td>5.jpg</td>\n",
       "      <td>1.8542</td>\n",
       "      <td>173</td>\n",
       "      <td>29.025197</td>\n",
       "    </tr>\n",
       "  </tbody>\n",
       "</table>\n",
       "</div>"
      ],
      "text/plain": [
       "      fwlfh      cjwr       par         es        meh  Name       whr  \\\n",
       "0  1.284765  1.075423  0.018512  55.610102  41.746230     1  2.047511   \n",
       "1  1.671641  1.052806  0.014974  70.176238  62.239506     2  2.455961   \n",
       "2  1.585730  1.077681  0.026840  40.011765  28.570747     3  2.445054   \n",
       "3  1.337689  1.072982  0.014118  66.567134  54.986445     4  2.116847   \n",
       "4  1.568283  1.097768  0.019558  51.197262  50.040106     5  2.608294   \n",
       "\n",
       "       lffh   Weight   path  Height  col        bmi  \n",
       "0  0.725495  54.4311  1.jpg  1.6002  173  21.256834  \n",
       "1  0.491537  74.8427  2.jpg  1.7018  214  25.842374  \n",
       "2  0.608696  92.9864  3.jpg  1.9304  190  24.953118  \n",
       "3  0.628097  68.0389  4.jpg  1.7272  184  22.807203  \n",
       "4  0.600757  99.7903  5.jpg  1.8542  173  29.025197  "
      ]
     },
     "execution_count": 35,
     "metadata": {},
     "output_type": "execute_result"
    }
   ],
   "source": [
    "df=pd.read_csv('final_results.csv')\n",
    "#print(df)\n",
    "df.head()\n",
    "# y = df['bmi'].values\n",
    "\n",
    "# clf = SVR(C=1.0, epsilon=0.2)\n",
    "# clf.fit(X, y) "
   ]
  },
  {
   "cell_type": "code",
   "execution_count": 36,
   "metadata": {},
   "outputs": [
    {
     "data": {
      "text/plain": [
       "DecisionTreeRegressor(criterion='mse', max_depth=None, max_features=None,\n",
       "           max_leaf_nodes=None, min_impurity_split=1e-07,\n",
       "           min_samples_leaf=1, min_samples_split=2,\n",
       "           min_weight_fraction_leaf=0.0, presort=False, random_state=None,\n",
       "           splitter='best')"
      ]
     },
     "execution_count": 36,
     "metadata": {},
     "output_type": "execute_result"
    }
   ],
   "source": [
    "y = df['bmi']\n",
    "#print(bmi)\n",
    "X=df.drop(['bmi','Height','Weight','Name','path'],axis=1)\n",
    "X_train, X_test, y_train, y_test = train_test_split(X, y, test_size=0.05, random_state=42)\n",
    "#clf = tree.DecisionTreeClassifier()\n",
    "clf = tree.DecisionTreeRegressor()\n",
    "#clf = SVR(C=1.0, epsilon=0.2)\n",
    "clf.fit(X_train, y_train) "
   ]
  },
  {
   "cell_type": "code",
   "execution_count": 37,
   "metadata": {},
   "outputs": [
    {
     "name": "stdout",
     "output_type": "stream",
     "text": [
      "5 5\n"
     ]
    }
   ],
   "source": [
    "result = clf.predict(X_test)\n",
    "\n",
    "print(len(result),len(y_test))"
   ]
  },
  {
   "cell_type": "code",
   "execution_count": 38,
   "metadata": {},
   "outputs": [
    {
     "data": {
      "text/plain": [
       "array([ 22.1509507 ,  28.20957802,  22.59634799,  21.9269246 ,  19.37351682])"
      ]
     },
     "execution_count": 38,
     "metadata": {},
     "output_type": "execute_result"
    }
   ],
   "source": [
    "result"
   ]
  },
  {
   "cell_type": "code",
   "execution_count": 39,
   "metadata": {},
   "outputs": [
    {
     "data": {
      "text/plain": [
       "62    25.747235\n",
       "40    21.910113\n",
       "95    37.762612\n",
       "18    20.119072\n",
       "97    31.930136\n",
       "Name: bmi, dtype: float64"
      ]
     },
     "execution_count": 39,
     "metadata": {},
     "output_type": "execute_result"
    }
   ],
   "source": [
    "y_test"
   ]
  },
  {
   "cell_type": "code",
   "execution_count": 45,
   "metadata": {},
   "outputs": [],
   "source": [
    "def accuracy(y_test, result):\n",
    "    tolerance = 2\n",
    "    accuracy = 0\n",
    "    for i, j in zip(y_test, result):\n",
    "        if abs(i - j) <= tolerance:\n",
    "            accuracy += 1\n",
    "    abc =accuracy*100/len(y_test)\n",
    "    print(accuracy)"
   ]
  },
  {
   "cell_type": "code",
   "execution_count": null,
   "metadata": {
    "collapsed": true
   },
   "outputs": [],
   "source": []
  }
 ],
 "metadata": {
  "kernelspec": {
   "display_name": "Python 3",
   "language": "python",
   "name": "python3"
  },
  "language_info": {
   "codemirror_mode": {
    "name": "ipython",
    "version": 3
   },
   "file_extension": ".py",
   "mimetype": "text/x-python",
   "name": "python",
   "nbconvert_exporter": "python",
   "pygments_lexer": "ipython3",
   "version": "3.5.2"
  }
 },
 "nbformat": 4,
 "nbformat_minor": 2
}
