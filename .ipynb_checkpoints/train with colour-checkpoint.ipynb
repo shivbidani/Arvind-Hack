{
 "cells": [
  {
   "cell_type": "code",
   "execution_count": 1,
   "metadata": {
    "collapsed": true
   },
   "outputs": [],
   "source": [
    "import numpy as np\n",
    "import pandas as pd\n",
    "from sklearn.svm import SVR\n",
    "from sklearn.model_selection import train_test_split\n",
    "from sklearn.metrics import accuracy_score"
   ]
  },
  {
   "cell_type": "code",
   "execution_count": 7,
   "metadata": {},
   "outputs": [
    {
     "data": {
      "text/html": [
       "<div>\n",
       "<style>\n",
       "    .dataframe thead tr:only-child th {\n",
       "        text-align: right;\n",
       "    }\n",
       "\n",
       "    .dataframe thead th {\n",
       "        text-align: left;\n",
       "    }\n",
       "\n",
       "    .dataframe tbody tr th {\n",
       "        vertical-align: top;\n",
       "    }\n",
       "</style>\n",
       "<table border=\"1\" class=\"dataframe\">\n",
       "  <thead>\n",
       "    <tr style=\"text-align: right;\">\n",
       "      <th></th>\n",
       "      <th>Weight</th>\n",
       "      <th>whr</th>\n",
       "      <th>fwlfh</th>\n",
       "      <th>meh</th>\n",
       "      <th>cjwr</th>\n",
       "      <th>es</th>\n",
       "      <th>par</th>\n",
       "      <th>Name</th>\n",
       "      <th>path</th>\n",
       "      <th>lffh</th>\n",
       "      <th>Height</th>\n",
       "      <th>bmi</th>\n",
       "    </tr>\n",
       "  </thead>\n",
       "  <tbody>\n",
       "    <tr>\n",
       "      <th>0</th>\n",
       "      <td>54.4311</td>\n",
       "      <td>2.047511</td>\n",
       "      <td>1.284765</td>\n",
       "      <td>41.746230</td>\n",
       "      <td>1.075423</td>\n",
       "      <td>55.610102</td>\n",
       "      <td>0.018512</td>\n",
       "      <td>1</td>\n",
       "      <td>1.jpg</td>\n",
       "      <td>0.725495</td>\n",
       "      <td>1.6002</td>\n",
       "      <td>21.256834</td>\n",
       "    </tr>\n",
       "    <tr>\n",
       "      <th>1</th>\n",
       "      <td>74.8427</td>\n",
       "      <td>2.455961</td>\n",
       "      <td>1.671641</td>\n",
       "      <td>62.239506</td>\n",
       "      <td>1.052806</td>\n",
       "      <td>70.176238</td>\n",
       "      <td>0.014974</td>\n",
       "      <td>2</td>\n",
       "      <td>2.jpg</td>\n",
       "      <td>0.491537</td>\n",
       "      <td>1.7018</td>\n",
       "      <td>25.842374</td>\n",
       "    </tr>\n",
       "    <tr>\n",
       "      <th>2</th>\n",
       "      <td>92.9864</td>\n",
       "      <td>2.445054</td>\n",
       "      <td>1.585730</td>\n",
       "      <td>28.570747</td>\n",
       "      <td>1.077681</td>\n",
       "      <td>40.011765</td>\n",
       "      <td>0.026840</td>\n",
       "      <td>3</td>\n",
       "      <td>3.jpg</td>\n",
       "      <td>0.608696</td>\n",
       "      <td>1.9304</td>\n",
       "      <td>24.953118</td>\n",
       "    </tr>\n",
       "    <tr>\n",
       "      <th>3</th>\n",
       "      <td>68.0389</td>\n",
       "      <td>2.116847</td>\n",
       "      <td>1.337689</td>\n",
       "      <td>54.986445</td>\n",
       "      <td>1.072982</td>\n",
       "      <td>66.567134</td>\n",
       "      <td>0.014118</td>\n",
       "      <td>4</td>\n",
       "      <td>4.jpg</td>\n",
       "      <td>0.628097</td>\n",
       "      <td>1.7272</td>\n",
       "      <td>22.807203</td>\n",
       "    </tr>\n",
       "    <tr>\n",
       "      <th>4</th>\n",
       "      <td>99.7903</td>\n",
       "      <td>2.608294</td>\n",
       "      <td>1.568283</td>\n",
       "      <td>50.040106</td>\n",
       "      <td>1.097768</td>\n",
       "      <td>51.197262</td>\n",
       "      <td>0.019558</td>\n",
       "      <td>5</td>\n",
       "      <td>5.jpg</td>\n",
       "      <td>0.600757</td>\n",
       "      <td>1.8542</td>\n",
       "      <td>29.025197</td>\n",
       "    </tr>\n",
       "  </tbody>\n",
       "</table>\n",
       "</div>"
      ],
      "text/plain": [
       "    Weight       whr     fwlfh        meh      cjwr         es       par  \\\n",
       "0  54.4311  2.047511  1.284765  41.746230  1.075423  55.610102  0.018512   \n",
       "1  74.8427  2.455961  1.671641  62.239506  1.052806  70.176238  0.014974   \n",
       "2  92.9864  2.445054  1.585730  28.570747  1.077681  40.011765  0.026840   \n",
       "3  68.0389  2.116847  1.337689  54.986445  1.072982  66.567134  0.014118   \n",
       "4  99.7903  2.608294  1.568283  50.040106  1.097768  51.197262  0.019558   \n",
       "\n",
       "   Name   path      lffh  Height        bmi  \n",
       "0     1  1.jpg  0.725495  1.6002  21.256834  \n",
       "1     2  2.jpg  0.491537  1.7018  25.842374  \n",
       "2     3  3.jpg  0.608696  1.9304  24.953118  \n",
       "3     4  4.jpg  0.628097  1.7272  22.807203  \n",
       "4     5  5.jpg  0.600757  1.8542  29.025197  "
      ]
     },
     "execution_count": 7,
     "metadata": {},
     "output_type": "execute_result"
    }
   ],
   "source": [
    "df=pd.read_csv('final_results.csv')\n",
    "#print(df)\n",
    "df.head()\n",
    "# y = df['bmi'].values\n",
    "\n",
    "# clf = SVR(C=1.0, epsilon=0.2)\n",
    "# clf.fit(X, y) "
   ]
  },
  {
   "cell_type": "code",
   "execution_count": 8,
   "metadata": {},
   "outputs": [
    {
     "data": {
      "text/plain": [
       "SVR(C=1.0, cache_size=200, coef0=0.0, degree=3, epsilon=0.2, gamma='auto',\n",
       "  kernel='rbf', max_iter=-1, shrinking=True, tol=0.001, verbose=False)"
      ]
     },
     "execution_count": 8,
     "metadata": {},
     "output_type": "execute_result"
    }
   ],
   "source": [
    "y = df['bmi']\n",
    "#print(bmi)\n",
    "X=df.drop(['bmi','Height','Weight','Name','path'],axis=1)\n",
    "X_train, X_test, y_train, y_test = train_test_split(X, y, test_size=0.33, random_state=42)\n",
    "clf = SVR(C=1.0, epsilon=0.2)\n",
    "clf.fit(X_train, y_train) "
   ]
  },
  {
   "cell_type": "code",
   "execution_count": 23,
   "metadata": {},
   "outputs": [
    {
     "name": "stdout",
     "output_type": "stream",
     "text": [
      "33 33\n"
     ]
    }
   ],
   "source": [
    "result = clf.predict(X_test)\n",
    "\n",
    "print(len(result),len(y_test))"
   ]
  },
  {
   "cell_type": "code",
   "execution_count": 28,
   "metadata": {},
   "outputs": [
    {
     "data": {
      "text/plain": [
       "array([ 24.70900131,  25.7141782 ,  25.38356753,  25.55001537,\n",
       "        25.70380098,  25.69816128,  26.00744734,  25.38842518,\n",
       "        23.76804048,  25.68028093,  25.83487542,  25.68587636,\n",
       "        26.48296343,  25.35398147,  25.85504837,  24.50550842,\n",
       "        25.85994683,  26.77488715,  25.56245552,  25.48509673,\n",
       "        24.67118143,  25.26554742,  24.80378382,  25.24187679,\n",
       "        24.47312096,  25.41859305,  25.72076887,  25.39981254,\n",
       "        25.38935262,  24.96619721,  26.06790826,  25.4880258 ,  25.58440522])"
      ]
     },
     "execution_count": 28,
     "metadata": {},
     "output_type": "execute_result"
    }
   ],
   "source": [
    "result"
   ]
  },
  {
   "cell_type": "code",
   "execution_count": 31,
   "metadata": {},
   "outputs": [
    {
     "data": {
      "text/plain": [
       "62    25.747235\n",
       "40    21.910113\n",
       "95    37.762612\n",
       "18    20.119072\n",
       "97    31.930136\n",
       "84    21.632959\n",
       "64    20.542620\n",
       "42    25.036318\n",
       "10    21.021558\n",
       "0     21.256834\n",
       "31    26.631409\n",
       "76    22.315292\n",
       "47    21.412586\n",
       "26    30.848984\n",
       "44    24.953184\n",
       "4     29.025197\n",
       "22    25.104353\n",
       "12    56.684042\n",
       "88    58.242583\n",
       "73    23.484081\n",
       "49    30.113908\n",
       "70    31.193358\n",
       "68    32.007663\n",
       "15    23.123180\n",
       "39    27.124606\n",
       "33    26.520577\n",
       "9     22.150915\n",
       "81    26.386608\n",
       "11    25.104353\n",
       "65    24.888994\n",
       "94    29.757969\n",
       "30    25.827037\n",
       "28    23.028227\n",
       "Name: bmi, dtype: float64"
      ]
     },
     "execution_count": 31,
     "metadata": {},
     "output_type": "execute_result"
    }
   ],
   "source": [
    "y_test"
   ]
  },
  {
   "cell_type": "code",
   "execution_count": null,
   "metadata": {
    "collapsed": true
   },
   "outputs": [],
   "source": []
  }
 ],
 "metadata": {
  "kernelspec": {
   "display_name": "Python 3",
   "language": "python",
   "name": "python3"
  },
  "language_info": {
   "codemirror_mode": {
    "name": "ipython",
    "version": 3
   },
   "file_extension": ".py",
   "mimetype": "text/x-python",
   "name": "python",
   "nbconvert_exporter": "python",
   "pygments_lexer": "ipython3",
   "version": "3.5.2"
  }
 },
 "nbformat": 4,
 "nbformat_minor": 2
}
