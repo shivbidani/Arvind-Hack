{
 "cells": [
  {
   "cell_type": "code",
   "execution_count": 1,
   "metadata": {
    "collapsed": true
   },
   "outputs": [],
   "source": [
    "from imutils import face_utils\n",
    "import numpy as np\n",
    "import imutils\n",
    "import dlib\n",
    "import cv2\n",
    "from math import sqrt"
   ]
  },
  {
   "cell_type": "code",
   "execution_count": 2,
   "metadata": {
    "collapsed": true
   },
   "outputs": [],
   "source": [
    "def main():\n",
    "\tpath = \"/home/shiv/ML/facial-landmarks/images/example_01.jpg\"\n",
    "\tfeature_extraction(path)"
   ]
  },
  {
   "cell_type": "code",
   "execution_count": 9,
   "metadata": {},
   "outputs": [
    {
     "ename": "IndentationError",
     "evalue": "unindent does not match any outer indentation level (<tokenize>, line 91)",
     "output_type": "error",
     "traceback": [
      "\u001b[0;36m  File \u001b[0;32m\"<tokenize>\"\u001b[0;36m, line \u001b[0;32m91\u001b[0m\n\u001b[0;31m    print(\"as\")\u001b[0m\n\u001b[0m    ^\u001b[0m\n\u001b[0;31mIndentationError\u001b[0m\u001b[0;31m:\u001b[0m unindent does not match any outer indentation level\n"
     ]
    }
   ],
   "source": [
    "\n",
    "\n",
    "def dist(x1, y1, x2, y2):\n",
    "\treturn sqrt((x1 - x2) ** 2 + (y1 - y2) ** 2)\n",
    "\n",
    "\n",
    "def abs_diff(p1, p2):\n",
    "\treturn abs(p1[0] - p2[0]), abs(p1[1] - p2[1])\n",
    "\n",
    "\n",
    "def mid_pt(p1, p2):\n",
    "\treturn (p1[0] + p2[0]) // 2, (p1[1] + p2[1]) // 2\n",
    "\n",
    "\n",
    "def feature_extraction(path):\n",
    "\n",
    "\tdetector = dlib.get_frontal_face_detector()\n",
    "\tpredictor = dlib.shape_predictor(\"shape_predictor_68_face_landmarks.dat\")\n",
    "\timage = cv2.imread(path)\n",
    "\timage = imutils.resize(image, width=500)\n",
    "\tgray = cv2.cvtColor(image, cv2.COLOR_BGR2GRAY)\n",
    "\tfaces = detector(gray, 1)\n",
    "\tfor (i, face) in enumerate(faces):\n",
    "\n",
    "\t\tshape = predictor(gray, face)\n",
    "\t\tshape = face_utils.shape_to_np(shape)\n",
    "\t\t# convert dlib's rectangle to a OpenCV-style bounding box\n",
    "\t\t# [i.e., (x, y, w, h)], then draw the face bounding box\n",
    "\t\t(x, y, w, h) = face_utils.rect_to_bb(face)\n",
    "\t\t#cv2.rectangle(image, (x, y), (x + w, y + h), (0, 255, 0), 2)\n",
    " \n",
    "\t\n",
    "\t\t# loop over the (x, y)-coordinates for the facial landmarks\n",
    "\t\t# and draw them on the image\n",
    "\t\tfor (x, y) in shape:\n",
    "\t\t\tcv2.circle(image, (x, y), 1, (0, 0, 255), -1)\n",
    " \n",
    "\t\t# show the output image with the face detections + facial landmarks\n",
    "\t\tcv2.imshow(\"Output\", image)\n",
    "\t\tcv2.waitKey(0)\n",
    "\t\tpts = {\"1\": 0, \"15\": 16, \"4\": 3, \"12\": 13, \"8\": 8, \"67\": 66, \"28\": 36, \"33\": 45, \"30\": 39, \"35\": 42, \"22\": 17,\n",
    "\t\t\t   \"29\": 37, \"25\": 21, \"19\": 22, \"34\": 43, \"16\": 26, \"26\": 20, \"27\": 18, \"20\": 23, \"21\": 25}\n",
    "\n",
    "\t\t# Calculation of parameters\n",
    "\t\tchk_w = dist(shape[pts[\"1\"]][0], shape[pts[\"1\"]][1], shape[pts[\"15\"]][0], shape[pts[\"15\"]][1])\n",
    "\t\tjaw_w = dist(shape[pts[\"4\"]][0], shape[pts[\"4\"]][1], shape[pts[\"12\"]][0], shape[pts[\"12\"]][1])\n",
    "\t\tcjwr = chk_w / jaw_w\n",
    "\n",
    "\t\tN1 = mid_pt(shape[pts[\"29\"]], shape[pts[\"34\"]])\n",
    "\t\tN3 = shape[20]\n",
    "\t\tN4 = shape[23]\n",
    "\n",
    "\t\tm1 = (shape[pts[\"28\"]][1] - N3[1]) / (shape[pts[\"28\"]][0] - N3[0])\n",
    "\t\tm2 = (shape[pts[\"33\"]][1] - N4[1]) / (shape[pts[\"33\"]][0] - N4[0])\n",
    "\t\tx_temp = int((N3[1] - N4[1] - m1 * N3[0] + m2 * N4[0]) / (m2 - m1))\n",
    "\t\ty_temp = int(N3[1] + m1 * (x_temp - N3[0]))\n",
    "\t\tN2 = (x_temp, y_temp)\n",
    "\n",
    "\t\tufc_h = dist(shape[pts[\"67\"]][0], shape[pts[\"67\"]][1], N1[0], N1[1])\n",
    "\t\twhr = chk_w / ufc_h\n",
    "\n",
    "\t\tperimeter = cv2.arcLength(np.array(\n",
    "\t\t\t[shape[pts[\"1\"]], shape[pts[\"4\"]], shape[pts[\"8\"]], shape[pts[\"12\"]], shape[pts[\"15\"]], shape[pts[\"1\"]]]), True)\n",
    "\t\tarea = cv2.contourArea(np.array(\n",
    "\t\t\t[shape[pts[\"1\"]], shape[pts[\"4\"]], shape[pts[\"8\"]], shape[pts[\"12\"]], shape[pts[\"15\"]], shape[pts[\"1\"]]]))\n",
    "\t\tpar = perimeter / area\n",
    "\n",
    "\t\tes = 0.5 * (dist(shape[pts[\"28\"]][0], shape[pts[\"28\"]][1], shape[pts[\"33\"]][0], shape[pts[\"33\"]][1]) -\n",
    "\t\t\t\t\t(dist(shape[pts[\"30\"]][0], shape[pts[\"30\"]][1], shape[pts[\"35\"]][0], shape[pts[\"35\"]][1])))\n",
    "\n",
    "\t\tlfh = (shape[pts[\"8\"]][1] - shape[pts[\"1\"]][1])\n",
    "\t\tlffh = lfh / dist(N2[0], N2[1], shape[pts[\"8\"]][0], shape[pts[\"8\"]][1])\n",
    "\n",
    "\t\tfwlfh = chk_w / lfh\n",
    "\n",
    "\t\tdist1 = dist(shape[pts[\"22\"]][0], shape[pts[\"22\"]][1], shape[pts[\"28\"]][0], shape[pts[\"28\"]][1])\n",
    "\t\tdist2 = dist(shape[pts[\"29\"]][0], shape[pts[\"29\"]][1], N3[0], N3[1])\n",
    "\t\tdist3 = dist(shape[pts[\"25\"]][0], shape[pts[\"25\"]][1], shape[pts[\"30\"]][0], shape[pts[\"30\"]][1])\n",
    "\t\tdist4 = dist(shape[pts[\"19\"]][0], shape[pts[\"19\"]][1], shape[pts[\"35\"]][0], shape[pts[\"35\"]][1])\n",
    "\t\tdist5 = dist(shape[pts[\"34\"]][0], shape[pts[\"34\"]][1], N4[0], N4[1])\n",
    "\t\tdist6 = dist(shape[pts[\"16\"]][0], shape[pts[\"16\"]][1], shape[pts[\"33\"]][0], shape[pts[\"33\"]][1])\n",
    "\t\tmeh = (dist1 + dist2 + dist3 + dist4 + dist5 + dist6)/6\n",
    "\t\tfeatures = {\"cjwr\": cjwr, \"whr\": whr, \"par\": par, \"es\": es, \"lffh\": lffh, \"fwlfh\": fwlfh, \"meh\": meh}\n",
    "\n",
    "\n",
    "\n",
    "\n",
    "\n",
    "if __name__ == \"__main__\":\n",
    "\tmain()\n",
    "    print(\"as\")"
   ]
  },
  {
   "cell_type": "code",
   "execution_count": null,
   "metadata": {
    "collapsed": true
   },
   "outputs": [],
   "source": []
  }
 ],
 "metadata": {
  "kernelspec": {
   "display_name": "Python 3",
   "language": "python",
   "name": "python3"
  },
  "language_info": {
   "codemirror_mode": {
    "name": "ipython",
    "version": 3
   },
   "file_extension": ".py",
   "mimetype": "text/x-python",
   "name": "python",
   "nbconvert_exporter": "python",
   "pygments_lexer": "ipython3",
   "version": "3.5.2"
  }
 },
 "nbformat": 4,
 "nbformat_minor": 2
}
